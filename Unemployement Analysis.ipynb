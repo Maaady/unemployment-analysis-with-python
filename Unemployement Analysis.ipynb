{
 "cells": [
  {
   "cell_type": "code",
   "execution_count": 8,
   "id": "95553522",
   "metadata": {},
   "outputs": [
    {
     "ename": "ModuleNotFoundError",
     "evalue": "No module named 'numpy'",
     "output_type": "error",
     "traceback": [
      "\u001b[1;31m---------------------------------------------------------------------------\u001b[0m",
      "\u001b[1;31mModuleNotFoundError\u001b[0m                       Traceback (most recent call last)",
      "Cell \u001b[1;32mIn[8], line 3\u001b[0m\n\u001b[0;32m      1\u001b[0m \u001b[38;5;66;03m#import python libraries\u001b[39;00m\n\u001b[1;32m----> 3\u001b[0m \u001b[38;5;28;01mimport\u001b[39;00m \u001b[38;5;21;01mnumpy\u001b[39;00m \u001b[38;5;28;01mas\u001b[39;00m \u001b[38;5;21;01mnp\u001b[39;00m\n\u001b[0;32m      4\u001b[0m \u001b[38;5;28;01mimport\u001b[39;00m \u001b[38;5;21;01mpandas\u001b[39;00m \u001b[38;5;28;01mas\u001b[39;00m \u001b[38;5;21;01mpd\u001b[39;00m\n\u001b[0;32m      5\u001b[0m \u001b[38;5;28;01mimport\u001b[39;00m \u001b[38;5;21;01mseaborn\u001b[39;00m \u001b[38;5;28;01mas\u001b[39;00m \u001b[38;5;21;01msns\u001b[39;00m\n",
      "\u001b[1;31mModuleNotFoundError\u001b[0m: No module named 'numpy'"
     ]
    }
   ],
   "source": [
    "#import python libraries\n",
    "\n",
    "import numpy as np\n",
    "import pandas as pd\n",
    "import seaborn as sns\n",
    "import matplotlib.pyplot as plt\n",
    "%matplotlib inline\n",
    "import calendar\n",
    "%pip install plotly\n",
    "import plotly.express as px"
   ]
  },
  {
   "cell_type": "code",
   "execution_count": null,
   "id": "71e62160",
   "metadata": {},
   "outputs": [],
   "source": [
    "# import csv file\n",
    "\n",
    "ua = pd.read_csv(\"H:/Unemployment_Rate_upto_11_2020.csv\")"
   ]
  },
  {
   "cell_type": "markdown",
   "id": "ccdbe88b",
   "metadata": {},
   "source": [
    "# EXPLORING THE DATA"
   ]
  },
  {
   "cell_type": "code",
   "execution_count": null,
   "id": "1dd38b9c",
   "metadata": {},
   "outputs": [],
   "source": [
    "ua.shape"
   ]
  },
  {
   "cell_type": "code",
   "execution_count": null,
   "id": "a3fff649",
   "metadata": {},
   "outputs": [],
   "source": [
    "ua.head()"
   ]
  },
  {
   "cell_type": "code",
   "execution_count": null,
   "id": "0f11cbe6",
   "metadata": {},
   "outputs": [],
   "source": [
    "ua.info()"
   ]
  },
  {
   "cell_type": "code",
   "execution_count": null,
   "id": "54409f97",
   "metadata": {},
   "outputs": [
    {
     "ename": "NameError",
     "evalue": "name 'pd' is not defined",
     "output_type": "error",
     "traceback": [
      "\u001b[1;31m---------------------------------------------------------------------------\u001b[0m",
      "\u001b[1;31mNameError\u001b[0m                                 Traceback (most recent call last)",
      "Cell \u001b[1;32mIn[1], line 3\u001b[0m\n\u001b[0;32m      1\u001b[0m \u001b[38;5;66;03m#check for null values\u001b[39;00m\n\u001b[1;32m----> 3\u001b[0m \u001b[43mpd\u001b[49m\u001b[38;5;241m.\u001b[39misnull(ua)\u001b[38;5;241m.\u001b[39msum()\n",
      "\u001b[1;31mNameError\u001b[0m: name 'pd' is not defined"
     ]
    }
   ],
   "source": [
    "#check for null values\n",
    "\n",
    "pd.isnull(ua).sum()"
   ]
  },
  {
   "cell_type": "code",
   "execution_count": null,
   "id": "404c5890",
   "metadata": {},
   "outputs": [
    {
     "ename": "NameError",
     "evalue": "name 'ua' is not defined",
     "output_type": "error",
     "traceback": [
      "\u001b[1;31m---------------------------------------------------------------------------\u001b[0m",
      "\u001b[1;31mNameError\u001b[0m                                 Traceback (most recent call last)",
      "Cell \u001b[1;32mIn[2], line 3\u001b[0m\n\u001b[0;32m      1\u001b[0m \u001b[38;5;66;03m#drop null values\u001b[39;00m\n\u001b[1;32m----> 3\u001b[0m \u001b[43mua\u001b[49m\u001b[38;5;241m.\u001b[39mdropna(inplace\u001b[38;5;241m=\u001b[39m\u001b[38;5;28;01mTrue\u001b[39;00m)\n",
      "\u001b[1;31mNameError\u001b[0m: name 'ua' is not defined"
     ]
    }
   ],
   "source": [
    "#drop null values\n",
    "\n",
    "ua.dropna(inplace=True)"
   ]
  },
  {
   "cell_type": "code",
   "execution_count": null,
   "id": "278db3b2",
   "metadata": {},
   "outputs": [],
   "source": [
    "ua.shape"
   ]
  },
  {
   "cell_type": "code",
   "execution_count": null,
   "id": "95607461",
   "metadata": {},
   "outputs": [],
   "source": [
    "#describe() returns description of the data\n",
    "\n",
    "ua.describe()"
   ]
  },
  {
   "cell_type": "markdown",
   "id": "898ea23f",
   "metadata": {},
   "source": [
    "# DATA PREPROCESSING"
   ]
  },
  {
   "cell_type": "code",
   "execution_count": null,
   "id": "b2e74ae9",
   "metadata": {},
   "outputs": [],
   "source": [
    "# Updating Column Names\n",
    "\n",
    "ua.columns = ua.columns.str.strip()  # Remove leading and trailing whitespaces from column names\n",
    "\n",
    "ua.rename(columns={\n",
    "    'Region': 'State',\n",
    "    'Date': 'Date',\n",
    "    'Frequency': 'Frequency',\n",
    "    'Estimated Unemployment Rate (%)': 'Unemployment_Rate',\n",
    "    'Estimated Employed': 'Employed',\n",
    "    'Estimated Labour Participation Rate (%)': 'Labor_Participation_Rate',\n",
    "    'Region.1': 'Region',\n",
    "    'Longitude': 'Latitude',\n",
    "    'Latitude': 'Longitude'\n",
    "}, inplace=True)\n",
    "\n",
    "print(ua.columns)"
   ]
  },
  {
   "cell_type": "code",
   "execution_count": null,
   "id": "170fbe6b",
   "metadata": {},
   "outputs": [],
   "source": [
    "ua.head()"
   ]
  },
  {
   "cell_type": "code",
   "execution_count": null,
   "id": "42dbeef9",
   "metadata": {},
   "outputs": [],
   "source": [
    "ua.State.value_counts()"
   ]
  },
  {
   "cell_type": "code",
   "execution_count": null,
   "id": "168b2f03",
   "metadata": {},
   "outputs": [],
   "source": [
    "ua['Date'] = pd.to_datetime(ua['Date'],dayfirst=True)  # Converting 'Date' column to datetime\n",
    "\n",
    "# Creating a new column for the month\n",
    "ua['Month'] = ua['Date'].dt.month\n",
    "\n",
    "print(ua.head())"
   ]
  },
  {
   "cell_type": "markdown",
   "id": "f16c6ea0",
   "metadata": {},
   "source": [
    "# DATA VISUALIZATION"
   ]
  },
  {
   "cell_type": "code",
   "execution_count": null,
   "id": "0e038358",
   "metadata": {},
   "outputs": [],
   "source": [
    "# Histogram of the Unemployment Rate\n",
    "plt.figure(figsize=(8, 6))\n",
    "sns.histplot(ua['Unemployment_Rate'], bins=20, kde=True)\n",
    "plt.title('Histogram of Unemployment Rate')\n",
    "plt.xlabel('Unemployment Rate')\n",
    "plt.ylabel('Frequency')\n",
    "plt.show()"
   ]
  },
  {
   "cell_type": "code",
   "execution_count": null,
   "id": "1c98d82d",
   "metadata": {},
   "outputs": [],
   "source": [
    "# Line plot of Unemployment Rate over time (Date)\n",
    "plt.figure(figsize=(10, 6))\n",
    "sns.lineplot(x='Date', y='Unemployment_Rate', data=ua)\n",
    "plt.title('Unemployment Rate over Time')\n",
    "plt.xlabel('Month')\n",
    "plt.ylabel('Unemployment Rate')\n",
    "plt.xticks(rotation=45)\n",
    "plt.show()"
   ]
  },
  {
   "cell_type": "code",
   "execution_count": null,
   "id": "e6e95fb4",
   "metadata": {},
   "outputs": [],
   "source": [
    "# Box plot of Unemployment Rate by Region\n",
    "plt.figure(figsize=(10, 6))\n",
    "sns.boxplot(x='Region', y='Unemployment_Rate', data=ua)\n",
    "plt.title('Unemployment Rate by Region')\n",
    "plt.xlabel('Region')\n",
    "plt.ylabel('Unemployment Rate')\n",
    "plt.xticks(rotation=45)\n",
    "plt.show()"
   ]
  },
  {
   "cell_type": "code",
   "execution_count": null,
   "id": "c2ac8683",
   "metadata": {},
   "outputs": [],
   "source": [
    "# Scatter plot of Employed vs. Labor Participation Rate\n",
    "plt.figure(figsize=(8, 6))\n",
    "sns.scatterplot(x='Employed', y='Labor_Participation_Rate', data=ua)\n",
    "plt.title('Employed vs. Labor Participation Rate')\n",
    "plt.xlabel('Employed')\n",
    "plt.ylabel('Labor Participation Rate')\n",
    "plt.show()"
   ]
  },
  {
   "cell_type": "code",
   "execution_count": null,
   "id": "0de46cf4",
   "metadata": {},
   "outputs": [],
   "source": [
    "monthly_avg_unemployment = ua.groupby('Month')['Unemployment_Rate'].mean()\n",
    "# Plotting the monthly average of Unemployment Rate\n",
    "plt.figure(figsize=(8, 6))\n",
    "sns.barplot(x=monthly_avg_unemployment.index, y=monthly_avg_unemployment.values)\n",
    "plt.title('Monthly Average Unemployment Rate')\n",
    "plt.xlabel('Month')\n",
    "plt.ylabel('Average Unemployment Rate')\n",
    "plt.xticks(np.arange(0, 12), calendar.month_abbr[1:13], rotation=45)\n",
    "plt.show()"
   ]
  },
  {
   "cell_type": "code",
   "execution_count": null,
   "id": "51d2757a",
   "metadata": {},
   "outputs": [],
   "source": [
    "# Exclude non-numeric columns from correlation calculation\n",
    "numeric_columns = ua.select_dtypes(include=[np.number])\n",
    "\n",
    "# Calculate correlation matrix for numeric columns\n",
    "correlation_matrix = numeric_columns.corr()\n",
    "\n",
    "# Plotting the correlation heatmap\n",
    "plt.figure(figsize=(10, 8))\n",
    "sns.heatmap(correlation_matrix, annot=True, cmap='coolwarm', fmt='.2f')\n",
    "plt.title('Correlation Matrix Heatmap')\n",
    "plt.show()"
   ]
  },
  {
   "cell_type": "code",
   "execution_count": null,
   "id": "c27e5ce7",
   "metadata": {},
   "outputs": [],
   "source": [
    "numerical_columns = ['Unemployment_Rate', 'Employed', 'Labor_Participation_Rate', 'longitude', 'latitude']\n",
    "sns.pairplot(ua[numerical_columns])\n",
    "plt.title('Pairplot of Numerical Variables')\n",
    "plt.show()"
   ]
  },
  {
   "cell_type": "code",
   "execution_count": null,
   "id": "aa4bdc38",
   "metadata": {},
   "outputs": [],
   "source": [
    "fig = px.scatter_geo(ua, \n",
    "                     lat='longitude', lon='latitude', color=\"State\",\n",
    "                     hover_name=\"State\", size=\"Unemployment_Rate\",\n",
    "                     animation_frame=\"Month\", scope='asia',\n",
    "                     title='Impact of Lockdown on Employment in India',\n",
    "                     projection='natural earth',\n",
    "                     color_continuous_scale='viridis',\n",
    "                     size_max=30)\n",
    "fig.update_geos(\n",
    "    showcoastlines=True, coastlinecolor=\"RebeccaPurple\", coastlinewidth=1,\n",
    "    showland=True, landcolor=\"LightGreen\", \n",
    "    showocean=True, oceancolor=\"LightBlue\", \n",
    "    showcountries=True, countrycolor=\"Black\", countrywidth=1, \n",
    "    showlakes=True, lakecolor=\"LightBlue\"\n",
    ")\n",
    "\n",
    "# Setting center around India and increase the scale for closer view\n",
    "fig.update_geos(center=dict(lon=78, lat=23), projection_scale=4)\n",
    "\n",
    "fig.show()"
   ]
  },
  {
   "cell_type": "code",
   "execution_count": null,
   "id": "8f2a6774",
   "metadata": {},
   "outputs": [],
   "source": [
    "state_unemployment = ua.groupby('State')['Unemployment_Rate'].mean().reset_index()\n",
    "\n",
    "# Sort the data in descending order to find the state with the highest unemployment rate\n",
    "state_unemployment_sorted = state_unemployment.sort_values(by='Unemployment_Rate', ascending=False)\n",
    "\n",
    "# Plot the bar plot\n",
    "plt.figure(figsize=(12, 6))\n",
    "sns.barplot(x='State', y='Unemployment_Rate', data=state_unemployment_sorted)\n",
    "plt.xticks(rotation=90)\n",
    "plt.xlabel('State')\n",
    "plt.ylabel('Average Unemployment Rate')\n",
    "plt.title('Average Unemployment Rate by State')\n",
    "plt.tight_layout()\n",
    "plt.show()"
   ]
  },
  {
   "cell_type": "markdown",
   "id": "c135a96b",
   "metadata": {},
   "source": [
    "# CONCLUSION"
   ]
  },
  {
   "cell_type": "markdown",
   "id": "a808c970",
   "metadata": {},
   "source": [
    "### Based on the EDA and the visualizations of the unemployment rate data, we can draw the following conclusions:\n",
    "\n",
    "### Urban Areas: \n",
    "The analysis indicates that most of the high unemployment rates are observed in urban areas. This could be attributed to various factors such as a higher population density, more industries, and a larger labor force competing for limited job opportunities.\n",
    "\n",
    "### Regional Variation: \n",
    "The southern region of India shows a higher average unemployment rate compared to other regions. This regional disparity may be influenced by economic and industrial variations across different parts of the country.\n",
    "\n",
    "### States with Highest Unemployment Rates: \n",
    "The top five states with the highest average unemployment rates are Haryana, Tripura, Jharkhand, Bihar, and Delhi. These states might be facing specific economic challenges and job market issues, contributing to elevated unemployment rates."
   ]
  },
  {
   "cell_type": "code",
   "execution_count": null,
   "id": "da9bbda0",
   "metadata": {},
   "outputs": [],
   "source": []
  }
 ],
 "metadata": {
  "kernelspec": {
   "display_name": "Python 3 (ipykernel)",
   "language": "python",
   "name": "python3"
  },
  "language_info": {
   "codemirror_mode": {
    "name": "ipython",
    "version": 3
   },
   "file_extension": ".py",
   "mimetype": "text/x-python",
   "name": "python",
   "nbconvert_exporter": "python",
   "pygments_lexer": "ipython3",
   "version": "3.11.3"
  }
 },
 "nbformat": 4,
 "nbformat_minor": 5
}
